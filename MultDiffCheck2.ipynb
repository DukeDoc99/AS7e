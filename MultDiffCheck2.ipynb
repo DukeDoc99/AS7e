{
 "cells": [
  {
   "cell_type": "markdown",
   "id": "3c15f6d0",
   "metadata": {},
   "source": [
    "\"\"\"<br>\n",
    "Based on Fundamentals of Electric Circuits 7e<br>\n",
    "Alexander & Sadiku<br>\n",
    "Chapter 8 Practice Problem 2<br><hr>\n",
    "Notebook by Michael R. Gustafson II (mrg@duke.edu)<br>\n",
    "Spring 2022 Version<br>\n",
    "\"\"\""
   ]
  },
  {
   "cell_type": "code",
   "execution_count": 1,
   "id": "009af64f",
   "metadata": {},
   "outputs": [],
   "source": [
    "import sympy as sym"
   ]
  },
  {
   "cell_type": "code",
   "execution_count": 2,
   "id": "210362cf",
   "metadata": {},
   "outputs": [],
   "source": [
    "sym.init_printing()"
   ]
  },
  {
   "cell_type": "code",
   "execution_count": 3,
   "id": "d30a6659",
   "metadata": {},
   "outputs": [],
   "source": [
    "# Declare symbols\n",
    "t = sym.symbols('t', real=True, positive=True)\n",
    "vc = sym.Function('vc', real=True)\n",
    "il = sym.Function('il', real=True)\n",
    "unks = [vc(t), il(t)]"
   ]
  },
  {
   "cell_type": "code",
   "execution_count": 4,
   "id": "7f4d0164",
   "metadata": {
    "scrolled": true
   },
   "outputs": [],
   "source": [
    "# Model equations\n",
    "KCLn1 = sym.Eq(vc(t).diff(t), -5*il(t)+10)\n",
    "KCLn2a = sym.Eq(il(t).diff(t), vc(t)/2-5*il(t)/2)\n",
    "KCLn2b = sym.Eq(il(t).diff(t), vc(t)/2-5*il(t)/2-3)"
   ]
  },
  {
   "cell_type": "code",
   "execution_count": 5,
   "id": "f9473587",
   "metadata": {},
   "outputs": [
    {
     "data": {
      "image/png": "[encoded data removed]",
      "text/latex": [
       "$\\displaystyle \\left[ \\frac{d}{d t} \\operatorname{vc}{\\left(t \\right)} = 10 - 5 \\operatorname{il}{\\left(t \\right)}, \\  \\frac{d}{d t} \\operatorname{il}{\\left(t \\right)} = - \\frac{5 \\operatorname{il}{\\left(t \\right)}}{2} + \\frac{\\operatorname{vc}{\\left(t \\right)}}{2}\\right]$"
      ],
      "text/plain": [
       "⎡d                         d             5⋅il(t)   vc(t)⎤\n",
       "⎢──(vc(t)) = 10 - 5⋅il(t), ──(il(t)) = - ─────── + ─────⎥\n",
       "⎣dt                        dt               2        2  ⎦"
      ]
     },
     "execution_count": 5,
     "metadata": {},
     "output_type": "execute_result"
    }
   ],
   "source": [
    "# Collect equations\n",
    "eqnsa = [KCLn1, KCLn2a]\n",
    "eqnsa"
   ]
  },
  {
   "cell_type": "code",
   "execution_count": 6,
   "id": "ea3ae19e",
   "metadata": {
    "scrolled": false
   },
   "outputs": [
    {
     "data": {
      "image/png": "[encoded data removed]",
      "text/latex": [
       "$\\displaystyle \\left[ \\operatorname{vc}{\\left(t \\right)} = 10 \\sin^{2}{\\left(\\frac{\\sqrt{15} t}{4} \\right)} + 10 \\cos^{2}{\\left(\\frac{\\sqrt{15} t}{4} \\right)} - \\frac{13 \\sqrt{15} e^{- \\frac{5 t}{4}} \\sin{\\left(\\frac{\\sqrt{15} t}{4} \\right)}}{3} - 9 e^{- \\frac{5 t}{4}} \\cos{\\left(\\frac{\\sqrt{15} t}{4} \\right)}, \\  \\operatorname{il}{\\left(t \\right)} = 2 \\sin^{2}{\\left(\\frac{\\sqrt{15} t}{4} \\right)} + 2 \\cos^{2}{\\left(\\frac{\\sqrt{15} t}{4} \\right)} - \\frac{23 \\sqrt{15} e^{- \\frac{5 t}{4}} \\sin{\\left(\\frac{\\sqrt{15} t}{4} \\right)}}{15} + e^{- \\frac{5 t}{4}} \\cos{\\left(\\frac{\\sqrt{15} t}{4} \\right)}\\right]$"
      ],
      "text/plain": [
       "⎡                                                  -5⋅t                       \n",
       "⎢                                                  ─────                      \n",
       "⎢                                                    4      ⎛√15⋅t⎞      -5⋅t \n",
       "⎢                                          13⋅√15⋅ℯ     ⋅sin⎜─────⎟      ─────\n",
       "⎢              2⎛√15⋅t⎞         2⎛√15⋅t⎞                    ⎝  4  ⎠        4  \n",
       "⎢vc(t) = 10⋅sin ⎜─────⎟ + 10⋅cos ⎜─────⎟ - ──────────────────────── - 9⋅ℯ     \n",
       "⎣               ⎝  4  ⎠          ⎝  4  ⎠              3                       \n",
       "\n",
       "                                                             -5⋅t             \n",
       "                                                             ─────            \n",
       "                                                               4      ⎛√15⋅t⎞ \n",
       "                                                     23⋅√15⋅ℯ     ⋅sin⎜─────⎟ \n",
       "    ⎛√15⋅t⎞               2⎛√15⋅t⎞        2⎛√15⋅t⎞                    ⎝  4  ⎠ \n",
       "⋅cos⎜─────⎟, il(t) = 2⋅sin ⎜─────⎟ + 2⋅cos ⎜─────⎟ - ──────────────────────── \n",
       "    ⎝  4  ⎠                ⎝  4  ⎠         ⎝  4  ⎠              15            \n",
       "\n",
       "                   ⎤\n",
       "                   ⎥\n",
       "   -5⋅t            ⎥\n",
       "   ─────           ⎥\n",
       "     4      ⎛√15⋅t⎞⎥\n",
       "+ ℯ     ⋅cos⎜─────⎟⎥\n",
       "            ⎝  4  ⎠⎦"
      ]
     },
     "execution_count": 6,
     "metadata": {},
     "output_type": "execute_result"
    }
   ],
   "source": [
    "# Solve and display\n",
    "sola = sym.dsolve(eqnsa, unks, ics = {vc(0): 1, il(0): 3})\n",
    "sola"
   ]
  },
  {
   "cell_type": "code",
   "execution_count": 7,
   "id": "2ce0d68b",
   "metadata": {},
   "outputs": [
    {
     "data": {
      "image/png": "[encoded data removed]",
      "text/latex": [
       "$\\displaystyle \\frac{\\left(30 e^{\\frac{5 t}{4}} - 13 \\sqrt{15} \\sin{\\left(\\frac{\\sqrt{15} t}{4} \\right)} - 27 \\cos{\\left(\\frac{\\sqrt{15} t}{4} \\right)}\\right) e^{- \\frac{5 t}{4}}}{3}$"
      ],
      "text/plain": [
       "⎛    5⋅t                                    ⎞  -5⋅t \n",
       "⎜    ───                                    ⎟  ─────\n",
       "⎜     4              ⎛√15⋅t⎞         ⎛√15⋅t⎞⎟    4  \n",
       "⎜30⋅ℯ    - 13⋅√15⋅sin⎜─────⎟ - 27⋅cos⎜─────⎟⎟⋅ℯ     \n",
       "⎝                    ⎝  4  ⎠         ⎝  4  ⎠⎠       \n",
       "────────────────────────────────────────────────────\n",
       "                         3                          "
      ]
     },
     "execution_count": 7,
     "metadata": {},
     "output_type": "execute_result"
    }
   ],
   "source": [
    "sola[0].rhs.simplify()"
   ]
  },
  {
   "cell_type": "code",
   "execution_count": 8,
   "id": "1c128144",
   "metadata": {},
   "outputs": [
    {
     "data": {
      "image/png": "[encoded data removed]",
      "text/latex": [
       "$\\displaystyle \\left[ \\frac{d}{d t} \\operatorname{vc}{\\left(t \\right)} = 10 - 5 \\operatorname{il}{\\left(t \\right)}, \\  \\frac{d}{d t} \\operatorname{il}{\\left(t \\right)} = - \\frac{5 \\operatorname{il}{\\left(t \\right)}}{2} + \\frac{\\operatorname{vc}{\\left(t \\right)}}{2} - 3\\right]$"
      ],
      "text/plain": [
       "⎡d                         d             5⋅il(t)   vc(t)    ⎤\n",
       "⎢──(vc(t)) = 10 - 5⋅il(t), ──(il(t)) = - ─────── + ───── - 3⎥\n",
       "⎣dt                        dt               2        2      ⎦"
      ]
     },
     "execution_count": 8,
     "metadata": {},
     "output_type": "execute_result"
    }
   ],
   "source": [
    "# Collect equations\n",
    "eqnsb = [KCLn1, KCLn2b]\n",
    "eqnsb"
   ]
  },
  {
   "cell_type": "code",
   "execution_count": 9,
   "id": "fa55a3fa",
   "metadata": {},
   "outputs": [
    {
     "name": "stderr",
     "output_type": "stream",
     "text": [
      "C:\\Users\\mrg\\anaconda3_2021_05\\lib\\site-packages\\sympy\\core\\operations.py:64: SymPyDeprecationWarning: \n",
      "\n",
      "Add/Mul with non-Expr args has been deprecated since SymPy 1.7. Use\n",
      "Expr args instead. See https://github.com/sympy/sympy/issues/19445 for\n",
      "more info.\n",
      "\n",
      "  SymPyDeprecationWarning(\n"
     ]
    },
    {
     "data": {
      "image/png": "[encoded data removed]",
      "text/latex": [
       "$\\displaystyle \\left[ \\operatorname{vc}{\\left(t \\right)} = - \\frac{15 \\left(- 2 \\int\\limits^{0} \\frac{e^{\\frac{5 t}{4}}}{\\cos{\\left(\\frac{\\sqrt{15} t}{4} \\right)}}\\, dt + 2 \\int\\limits^{0} \\frac{e^{\\frac{5 t}{4}} \\sin^{2}{\\left(\\frac{\\sqrt{15} t}{4} \\right)}}{\\cos{\\left(\\frac{\\sqrt{15} t}{4} \\right)}}\\, dt + 5\\right) e^{- \\frac{5 t}{4}} \\cos{\\left(\\frac{\\sqrt{15} t}{4} \\right)}}{4} - \\frac{\\sqrt{15} \\left(18 \\int\\limits^{0} \\frac{e^{\\frac{5 t}{4}}}{\\cos{\\left(\\frac{\\sqrt{15} t}{4} \\right)}}\\, dt - 18 \\int\\limits^{0} \\frac{e^{\\frac{5 t}{4}} \\sin^{2}{\\left(\\frac{\\sqrt{15} t}{4} \\right)}}{\\cos{\\left(\\frac{\\sqrt{15} t}{4} \\right)}}\\, dt + 67\\right) e^{- \\frac{5 t}{4}} \\sin{\\left(\\frac{\\sqrt{15} t}{4} \\right)}}{12} + 5 \\sin^{2}{\\left(\\frac{\\sqrt{15} t}{4} \\right)} + \\frac{14 \\sqrt{15} \\sin{\\left(\\frac{\\sqrt{15} t}{4} \\right)} \\cos{\\left(\\frac{\\sqrt{15} t}{4} \\right)}}{3} + 11 \\cos^{2}{\\left(\\frac{\\sqrt{15} t}{4} \\right)} + \\frac{35 e^{- \\frac{5 t}{4}} \\sin{\\left(\\frac{\\sqrt{15} t}{4} \\right)} \\int e^{\\frac{5 t}{4}} \\sin{\\left(\\frac{\\sqrt{15} t}{4} \\right)}\\, dt}{2} + \\frac{3 \\sqrt{15} e^{- \\frac{5 t}{4}} \\sin{\\left(\\frac{\\sqrt{15} t}{4} \\right)} \\int \\frac{e^{\\frac{5 t}{4}}}{\\cos{\\left(\\frac{\\sqrt{15} t}{4} \\right)}}\\, dt}{2} - \\frac{3 \\sqrt{15} e^{- \\frac{5 t}{4}} \\sin{\\left(\\frac{\\sqrt{15} t}{4} \\right)} \\int \\frac{e^{\\frac{5 t}{4}} \\sin^{2}{\\left(\\frac{\\sqrt{15} t}{4} \\right)}}{\\cos{\\left(\\frac{\\sqrt{15} t}{4} \\right)}}\\, dt}{2} - \\frac{35 \\sqrt{15} e^{- \\frac{5 t}{4}} \\cos{\\left(\\frac{\\sqrt{15} t}{4} \\right)} \\int e^{\\frac{5 t}{4}} \\sin{\\left(\\frac{\\sqrt{15} t}{4} \\right)}\\, dt}{6} - \\frac{15 e^{- \\frac{5 t}{4}} \\cos{\\left(\\frac{\\sqrt{15} t}{4} \\right)} \\int \\frac{e^{\\frac{5 t}{4}}}{\\cos{\\left(\\frac{\\sqrt{15} t}{4} \\right)}}\\, dt}{2} + \\frac{15 e^{- \\frac{5 t}{4}} \\cos{\\left(\\frac{\\sqrt{15} t}{4} \\right)} \\int \\frac{e^{\\frac{5 t}{4}} \\sin^{2}{\\left(\\frac{\\sqrt{15} t}{4} \\right)}}{\\cos{\\left(\\frac{\\sqrt{15} t}{4} \\right)}}\\, dt}{2}, \\  \\operatorname{il}{\\left(t \\right)} = - \\frac{\\left(- 6 \\int\\limits^{0} \\frac{e^{\\frac{5 t}{4}}}{\\cos{\\left(\\frac{\\sqrt{15} t}{4} \\right)}}\\, dt + 6 \\int\\limits^{0} \\frac{e^{\\frac{5 t}{4}} \\sin^{2}{\\left(\\frac{\\sqrt{15} t}{4} \\right)}}{\\cos{\\left(\\frac{\\sqrt{15} t}{4} \\right)}}\\, dt + 1\\right) e^{- \\frac{5 t}{4}} \\cos{\\left(\\frac{\\sqrt{15} t}{4} \\right)}}{2} + 2 \\sin^{2}{\\left(\\frac{\\sqrt{15} t}{4} \\right)} + \\frac{22 \\sqrt{15} \\sin{\\left(\\frac{\\sqrt{15} t}{4} \\right)} \\cos{\\left(\\frac{\\sqrt{15} t}{4} \\right)}}{15} - \\frac{7 \\sqrt{15} e^{- \\frac{5 t}{4}} \\sin{\\left(\\frac{\\sqrt{15} t}{4} \\right)}}{3} - \\frac{7 \\sqrt{15} e^{- \\frac{5 t}{4}} \\cos{\\left(\\frac{\\sqrt{15} t}{4} \\right)} \\int e^{\\frac{5 t}{4}} \\sin{\\left(\\frac{\\sqrt{15} t}{4} \\right)}\\, dt}{3} - 3 e^{- \\frac{5 t}{4}} \\cos{\\left(\\frac{\\sqrt{15} t}{4} \\right)} \\int \\frac{e^{\\frac{5 t}{4}}}{\\cos{\\left(\\frac{\\sqrt{15} t}{4} \\right)}}\\, dt + 3 e^{- \\frac{5 t}{4}} \\cos{\\left(\\frac{\\sqrt{15} t}{4} \\right)} \\int \\frac{e^{\\frac{5 t}{4}} \\sin^{2}{\\left(\\frac{\\sqrt{15} t}{4} \\right)}}{\\cos{\\left(\\frac{\\sqrt{15} t}{4} \\right)}}\\, dt\\right]$"
      ],
      "text/plain": [
       "⎡             ⎛                        0                        ⎞             \n",
       "⎢             ⎜    0                   ⌠                        ⎟             \n",
       "⎢             ⎜    ⌠                   ⎮  5⋅t                   ⎟             \n",
       "⎢             ⎜    ⎮     5⋅t           ⎮  ───                   ⎟             \n",
       "⎢             ⎜    ⎮     ───           ⎮   4     2⎛√15⋅t⎞       ⎟  -5⋅t       \n",
       "⎢             ⎜    ⎮      4            ⎮ ℯ   ⋅sin ⎜─────⎟       ⎟  ─────      \n",
       "⎢             ⎜    ⎮    ℯ              ⎮          ⎝  4  ⎠       ⎟    4      ⎛√\n",
       "⎢          15⋅⎜- 2⋅⎮ ────────── dt + 2⋅⎮ ──────────────── dt + 5⎟⋅ℯ     ⋅cos⎜─\n",
       "⎢             ⎜    ⎮    ⎛√15⋅t⎞        ⎮       ⎛√15⋅t⎞          ⎟           ⎝ \n",
       "⎢             ⎜    ⎮ cos⎜─────⎟        ⎮    cos⎜─────⎟          ⎟             \n",
       "⎢             ⎜    ⎮    ⎝  4  ⎠        ⎮       ⎝  4  ⎠          ⎟             \n",
       "⎢             ⎜    ⌡                   ⌡                        ⎟             \n",
       "⎢             ⎝                                                 ⎠             \n",
       "⎢vc(t) = - ───────────────────────────────────────────────────────────────────\n",
       "⎢                                             4                               \n",
       "⎢                                                                             \n",
       "⎢                                                                             \n",
       "⎣                                                                             \n",
       "\n",
       "            ⎛                        0                         ⎞              \n",
       "            ⎜   0                    ⌠                         ⎟              \n",
       "            ⎜   ⌠                    ⎮  5⋅t                    ⎟              \n",
       "            ⎜   ⎮     5⋅t            ⎮  ───                    ⎟              \n",
       "            ⎜   ⎮     ───            ⎮   4     2⎛√15⋅t⎞        ⎟  -5⋅t        \n",
       "            ⎜   ⎮      4             ⎮ ℯ   ⋅sin ⎜─────⎟        ⎟  ─────       \n",
       "15⋅t⎞       ⎜   ⎮    ℯ               ⎮          ⎝  4  ⎠        ⎟    4      ⎛√1\n",
       "────⎟   √15⋅⎜18⋅⎮ ────────── dt - 18⋅⎮ ──────────────── dt + 67⎟⋅ℯ     ⋅sin⎜──\n",
       " 4  ⎠       ⎜   ⎮    ⎛√15⋅t⎞         ⎮       ⎛√15⋅t⎞           ⎟           ⎝  \n",
       "            ⎜   ⎮ cos⎜─────⎟         ⎮    cos⎜─────⎟           ⎟              \n",
       "            ⎜   ⎮    ⎝  4  ⎠         ⎮       ⎝  4  ⎠           ⎟              \n",
       "            ⎜   ⌡                    ⌡                         ⎟              \n",
       "            ⎝                                                  ⎠              \n",
       "───── - ──────────────────────────────────────────────────────────────────────\n",
       "                                            12                                \n",
       "                                                                              \n",
       "                                                                              \n",
       "                                                                              \n",
       "\n",
       "                                                                              \n",
       "                                                                              \n",
       "                                                                              \n",
       "                                                                              \n",
       "                                                                              \n",
       "                                                                              \n",
       "5⋅t⎞                                                                          \n",
       "───⎟                                                                       -5⋅\n",
       "4  ⎠                                                                       ───\n",
       "                                                                             4\n",
       "                                 ⎛√15⋅t⎞    ⎛√15⋅t⎞                    35⋅ℯ   \n",
       "                       14⋅√15⋅sin⎜─────⎟⋅cos⎜─────⎟                           \n",
       "            2⎛√15⋅t⎞             ⎝  4  ⎠    ⎝  4  ⎠         2⎛√15⋅t⎞          \n",
       "──── + 5⋅sin ⎜─────⎟ + ──────────────────────────── + 11⋅cos ⎜─────⎟ + ───────\n",
       "             ⎝  4  ⎠                3                        ⎝  4  ⎠          \n",
       "                                                                              \n",
       "                                                                              \n",
       "                                                                              \n",
       "\n",
       "                                                                              \n",
       "                                                                              \n",
       "                                                                              \n",
       "                                                             ⌠                \n",
       "                                                             ⎮     5⋅t        \n",
       "                                            -5⋅t             ⎮     ───        \n",
       "              ⌠                             ─────            ⎮      4         \n",
       "t             ⎮  5⋅t                          4      ⎛√15⋅t⎞ ⎮    ℯ           \n",
       "──            ⎮  ───                 3⋅√15⋅ℯ     ⋅sin⎜─────⎟⋅⎮ ────────── dt  \n",
       "      ⎛√15⋅t⎞ ⎮   4     ⎛√15⋅t⎞                      ⎝  4  ⎠ ⎮    ⎛√15⋅t⎞     \n",
       "  ⋅sin⎜─────⎟⋅⎮ ℯ   ⋅sin⎜─────⎟ dt                           ⎮ cos⎜─────⎟     \n",
       "      ⎝  4  ⎠ ⎮         ⎝  4  ⎠                              ⎮    ⎝  4  ⎠     \n",
       "              ⌡                                              ⌡                \n",
       "────────────────────────────────── + ─────────────────────────────────────── -\n",
       "             2                                          2                     \n",
       "                                                                              \n",
       "                                                                              \n",
       "                                                                              \n",
       "\n",
       "                                                                              \n",
       "                                                                              \n",
       "                         ⌠                                                    \n",
       "                         ⎮  5⋅t                                               \n",
       "                         ⎮  ───                                               \n",
       "        -5⋅t             ⎮   4     2⎛√15⋅t⎞                                   \n",
       "        ─────            ⎮ ℯ   ⋅sin ⎜─────⎟                               ⌠   \n",
       "          4      ⎛√15⋅t⎞ ⎮          ⎝  4  ⎠              -5⋅t             ⎮  5\n",
       " 3⋅√15⋅ℯ     ⋅sin⎜─────⎟⋅⎮ ──────────────── dt           ─────            ⎮  ─\n",
       "                 ⎝  4  ⎠ ⎮       ⎛√15⋅t⎞                   4      ⎛√15⋅t⎞ ⎮   \n",
       "                         ⎮    cos⎜─────⎟         35⋅√15⋅ℯ     ⋅cos⎜─────⎟⋅⎮ ℯ \n",
       "                         ⎮       ⎝  4  ⎠                          ⎝  4  ⎠ ⎮   \n",
       "                         ⌡                                                ⌡   \n",
       " ───────────────────────────────────────────── - ─────────────────────────────\n",
       "                       2                                               6      \n",
       "                                                                              \n",
       "                                                                              \n",
       "                                                                              \n",
       "\n",
       "                                                                              \n",
       "                                                                              \n",
       "                                                                              \n",
       "                                        ⌠                                     \n",
       "                                        ⎮     5⋅t                             \n",
       "                       -5⋅t             ⎮     ───             -5⋅t            \n",
       "                       ─────            ⎮      4              ─────           \n",
       "⋅t                       4      ⎛√15⋅t⎞ ⎮    ℯ                  4      ⎛√15⋅t⎞\n",
       "──                 15⋅ℯ     ⋅cos⎜─────⎟⋅⎮ ────────── dt   15⋅ℯ     ⋅cos⎜─────⎟\n",
       "4     ⎛√15⋅t⎞                   ⎝  4  ⎠ ⎮    ⎛√15⋅t⎞                   ⎝  4  ⎠\n",
       "  ⋅sin⎜─────⎟ dt                        ⎮ cos⎜─────⎟                          \n",
       "      ⎝  4  ⎠                           ⎮    ⎝  4  ⎠                          \n",
       "                                        ⌡                                     \n",
       "──────────────── - ──────────────────────────────────── + ────────────────────\n",
       "                                    2                                         \n",
       "                                                                              \n",
       "                                                                              \n",
       "                                                                              \n",
       "\n",
       "                                  ⎛                        0                  \n",
       "                                  ⎜    0                   ⌠                  \n",
       " ⌠                                ⎜    ⌠                   ⎮  5⋅t             \n",
       " ⎮  5⋅t                           ⎜    ⎮     5⋅t           ⎮  ───             \n",
       " ⎮  ───                           ⎜    ⎮     ───           ⎮   4     2⎛√15⋅t⎞ \n",
       " ⎮   4     2⎛√15⋅t⎞               ⎜    ⎮      4            ⎮ ℯ   ⋅sin ⎜─────⎟ \n",
       " ⎮ ℯ   ⋅sin ⎜─────⎟               ⎜    ⎮    ℯ              ⎮          ⎝  4  ⎠ \n",
       " ⎮          ⎝  4  ⎠               ⎜- 6⋅⎮ ────────── dt + 6⋅⎮ ──────────────── \n",
       "⋅⎮ ──────────────── dt            ⎜    ⎮    ⎛√15⋅t⎞        ⎮       ⎛√15⋅t⎞    \n",
       " ⎮       ⎛√15⋅t⎞                  ⎜    ⎮ cos⎜─────⎟        ⎮    cos⎜─────⎟    \n",
       " ⎮    cos⎜─────⎟                  ⎜    ⎮    ⎝  4  ⎠        ⎮       ⎝  4  ⎠    \n",
       " ⎮       ⎝  4  ⎠                  ⎜    ⌡                   ⌡                  \n",
       " ⌡                                ⎝                                           \n",
       "──────────────────────, il(t) = - ────────────────────────────────────────────\n",
       "2                                                                   2         \n",
       "                                                                              \n",
       "                                                                              \n",
       "                                                                              \n",
       "\n",
       "      ⎞                                                                       \n",
       "      ⎟                                                                       \n",
       "      ⎟                                                                       \n",
       "      ⎟                                                                       \n",
       "      ⎟  -5⋅t                                                                 \n",
       "      ⎟  ─────                                                                \n",
       "      ⎟    4      ⎛√15⋅t⎞                                                     \n",
       "dt + 1⎟⋅ℯ     ⋅cos⎜─────⎟                                                     \n",
       "      ⎟           ⎝  4  ⎠                                                     \n",
       "      ⎟                                                                       \n",
       "      ⎟                                               ⎛√15⋅t⎞    ⎛√15⋅t⎞      \n",
       "      ⎟                                     22⋅√15⋅sin⎜─────⎟⋅cos⎜─────⎟   7⋅√\n",
       "      ⎠                          2⎛√15⋅t⎞             ⎝  4  ⎠    ⎝  4  ⎠      \n",
       "───────────────────────── + 2⋅sin ⎜─────⎟ + ──────────────────────────── - ───\n",
       "                                  ⎝  4  ⎠                15                   \n",
       "                                                                              \n",
       "                                                                              \n",
       "                                                                              \n",
       "\n",
       "                                                                              \n",
       "                                                                              \n",
       "                                                                              \n",
       "                                                                              \n",
       "                                                                              \n",
       "                                                                              \n",
       "                                               ⌠                              \n",
       "                              -5⋅t             ⎮  5⋅t                         \n",
       "    -5⋅t                      ─────            ⎮  ───                         \n",
       "    ─────                       4      ⎛√15⋅t⎞ ⎮   4     ⎛√15⋅t⎞              \n",
       "      4      ⎛√15⋅t⎞   7⋅√15⋅ℯ     ⋅cos⎜─────⎟⋅⎮ ℯ   ⋅sin⎜─────⎟ dt      -5⋅t \n",
       "15⋅ℯ     ⋅sin⎜─────⎟                   ⎝  4  ⎠ ⎮         ⎝  4  ⎠         ─────\n",
       "             ⎝  4  ⎠                           ⌡                           4  \n",
       "──────────────────── - ──────────────────────────────────────────── - 3⋅ℯ     \n",
       "        3                                   3                                 \n",
       "                                                                              \n",
       "                                                                              \n",
       "                                                                              \n",
       "\n",
       "                                                                       ⎤\n",
       "                                                                       ⎥\n",
       "                                                                       ⎥\n",
       "                                                                       ⎥\n",
       "                                                                       ⎥\n",
       "                                                                       ⎥\n",
       "                                                                       ⎥\n",
       "                                                  ⌠                    ⎥\n",
       "            ⌠                                     ⎮  5⋅t               ⎥\n",
       "            ⎮     5⋅t                             ⎮  ───               ⎥\n",
       "            ⎮     ───            -5⋅t             ⎮   4     2⎛√15⋅t⎞   ⎥\n",
       "            ⎮      4             ─────            ⎮ ℯ   ⋅sin ⎜─────⎟   ⎥\n",
       "    ⎛√15⋅t⎞ ⎮    ℯ                 4      ⎛√15⋅t⎞ ⎮          ⎝  4  ⎠   ⎥\n",
       "⋅cos⎜─────⎟⋅⎮ ────────── dt + 3⋅ℯ     ⋅cos⎜─────⎟⋅⎮ ──────────────── dt⎥\n",
       "    ⎝  4  ⎠ ⎮    ⎛√15⋅t⎞                  ⎝  4  ⎠ ⎮       ⎛√15⋅t⎞      ⎥\n",
       "            ⎮ cos⎜─────⎟                          ⎮    cos⎜─────⎟      ⎥\n",
       "            ⎮    ⎝  4  ⎠                          ⎮       ⎝  4  ⎠      ⎥\n",
       "            ⌡                                     ⌡                    ⎦"
      ]
     },
     "execution_count": 9,
     "metadata": {},
     "output_type": "execute_result"
    }
   ],
   "source": [
    "# Solve and display\n",
    "solb = sym.dsolve(eqnsb, unks, ics = {vc(0): 1, il(0): 3})\n",
    "solb"
   ]
  },
  {
   "cell_type": "code",
   "execution_count": null,
   "id": "b850a23d",
   "metadata": {},
   "outputs": [],
   "source": []
  }
 ],
 "metadata": {
  "kernelspec": {
   "display_name": "Python 3 (ipykernel)",
   "language": "python",
   "name": "python3"
  },
  "language_info": {
   "codemirror_mode": {
    "name": "ipython",
    "version": 3
   },
   "file_extension": ".py",
   "mimetype": "text/x-python",
   "name": "python",
   "nbconvert_exporter": "python",
   "pygments_lexer": "ipython3",
   "version": "3.8.11"
  }
 },
 "nbformat": 4,
 "nbformat_minor": 5
}
