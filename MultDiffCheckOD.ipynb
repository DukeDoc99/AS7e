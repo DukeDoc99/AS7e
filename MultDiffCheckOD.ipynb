{
 "cells": [
  {
   "cell_type": "markdown",
   "id": "3c15f6d0",
   "metadata": {},
   "source": [
    "\"\"\"<br>\n",
    "Based on Fundamentals of Electric Circuits 7e<br>\n",
    "Alexander & Sadiku<br>\n",
    "Chapter 8 Practice Problem 2<br><hr>\n",
    "Notebook by Michael R. Gustafson II (mrg@duke.edu)<br>\n",
    "Spring 2022 Version<br>\n",
    "\"\"\""
   ]
  },
  {
   "cell_type": "code",
   "execution_count": 1,
   "id": "009af64f",
   "metadata": {},
   "outputs": [],
   "source": [
    "import sympy as sym"
   ]
  },
  {
   "cell_type": "code",
   "execution_count": 2,
   "id": "210362cf",
   "metadata": {},
   "outputs": [],
   "source": [
    "sym.init_printing()"
   ]
  },
  {
   "cell_type": "code",
   "execution_count": 3,
   "id": "d30a6659",
   "metadata": {},
   "outputs": [],
   "source": [
    "# Declare symbols\n",
    "t = sym.symbols('t', real=True, positive=True)\n",
    "vc = sym.Function('vc', real=True)\n",
    "il = sym.Function('il', real=True)\n",
    "unks = [vc(t), il(t)]"
   ]
  },
  {
   "cell_type": "code",
   "execution_count": 18,
   "id": "7f4d0164",
   "metadata": {
    "scrolled": true
   },
   "outputs": [],
   "source": [
    "# Model equations\n",
    "KCLn1 = sym.Eq(vc(t).diff(t), -1*il(t)+10)\n",
    "KCLn2a = sym.Eq(il(t).diff(t), 4*vc(t)-5*il(t))\n",
    "KCLn2b = sym.Eq(il(t).diff(t), 4*vc(t)-5*il(t)+3)"
   ]
  },
  {
   "cell_type": "code",
   "execution_count": 19,
   "id": "f9473587",
   "metadata": {},
   "outputs": [
    {
     "data": {
      "image/png": "[encoded data removed]",
      "text/latex": [
       "$\\displaystyle \\left[ \\frac{d}{d t} \\operatorname{vc}{\\left(t \\right)} = 10 - \\operatorname{il}{\\left(t \\right)}, \\  \\frac{d}{d t} \\operatorname{il}{\\left(t \\right)} = - 5 \\operatorname{il}{\\left(t \\right)} + 4 \\operatorname{vc}{\\left(t \\right)}\\right]$"
      ],
      "text/plain": [
       "⎡d                       d                             ⎤\n",
       "⎢──(vc(t)) = 10 - il(t), ──(il(t)) = -5⋅il(t) + 4⋅vc(t)⎥\n",
       "⎣dt                      dt                            ⎦"
      ]
     },
     "execution_count": 19,
     "metadata": {},
     "output_type": "execute_result"
    }
   ],
   "source": [
    "# Collect equations\n",
    "eqnsa = [KCLn1, KCLn2a]\n",
    "eqnsa"
   ]
  },
  {
   "cell_type": "code",
   "execution_count": 20,
   "id": "ea3ae19e",
   "metadata": {
    "scrolled": false
   },
   "outputs": [
    {
     "data": {
      "image/png": "[encoded data removed]",
      "text/latex": [
       "$\\displaystyle \\left[ \\operatorname{vc}{\\left(t \\right)} = \\frac{25}{2} - 13 e^{- t} + \\frac{3 e^{- 4 t}}{2}, \\  \\operatorname{il}{\\left(t \\right)} = 10 - 13 e^{- t} + 6 e^{- 4 t}\\right]$"
      ],
      "text/plain": [
       "⎡                         -4⋅t                               ⎤\n",
       "⎢        25       -t   3⋅ℯ                       -t      -4⋅t⎥\n",
       "⎢vc(t) = ── - 13⋅ℯ   + ───────, il(t) = 10 - 13⋅ℯ   + 6⋅ℯ    ⎥\n",
       "⎣        2                2                                  ⎦"
      ]
     },
     "execution_count": 20,
     "metadata": {},
     "output_type": "execute_result"
    }
   ],
   "source": [
    "# Solve and display\n",
    "sola = sym.dsolve(eqnsa, unks, ics = {vc(0): 1, il(0): 3})\n",
    "sola"
   ]
  },
  {
   "cell_type": "code",
   "execution_count": 21,
   "id": "5c7fbe71",
   "metadata": {},
   "outputs": [
    {
     "data": {
      "image/png": "[encoded data removed]",
      "text/latex": [
       "$\\displaystyle \\frac{25}{2} - 13 e^{- t} + \\frac{3 e^{- 4 t}}{2}$"
      ],
      "text/plain": [
       "                 -4⋅t\n",
       "25       -t   3⋅ℯ    \n",
       "── - 13⋅ℯ   + ───────\n",
       "2                2   "
      ]
     },
     "execution_count": 21,
     "metadata": {},
     "output_type": "execute_result"
    }
   ],
   "source": [
    "sym.trigsimp(sola[0].rhs)"
   ]
  },
  {
   "cell_type": "code",
   "execution_count": 22,
   "id": "09d6e651",
   "metadata": {},
   "outputs": [
    {
     "data": {
      "image/png": "[encoded data removed]",
      "text/latex": [
       "$\\displaystyle \\left[ \\frac{d}{d t} \\operatorname{vc}{\\left(t \\right)} = 10 - \\operatorname{il}{\\left(t \\right)}, \\  \\frac{d}{d t} \\operatorname{il}{\\left(t \\right)} = - 5 \\operatorname{il}{\\left(t \\right)} + 4 \\operatorname{vc}{\\left(t \\right)} + 3\\right]$"
      ],
      "text/plain": [
       "⎡d                       d                                 ⎤\n",
       "⎢──(vc(t)) = 10 - il(t), ──(il(t)) = -5⋅il(t) + 4⋅vc(t) + 3⎥\n",
       "⎣dt                      dt                                ⎦"
      ]
     },
     "execution_count": 22,
     "metadata": {},
     "output_type": "execute_result"
    }
   ],
   "source": [
    "# Collect equations\n",
    "eqnsb = [KCLn1, KCLn2b]\n",
    "eqnsb"
   ]
  },
  {
   "cell_type": "code",
   "execution_count": 23,
   "id": "09d0529e",
   "metadata": {},
   "outputs": [
    {
     "data": {
      "image/png": "[encoded data removed]",
      "text/latex": [
       "$\\displaystyle \\left[ \\operatorname{vc}{\\left(t \\right)} = \\frac{47}{4} - 12 e^{- t} + \\frac{5 e^{- 4 t}}{4}, \\  \\operatorname{il}{\\left(t \\right)} = 10 - 12 e^{- t} + 5 e^{- 4 t}\\right]$"
      ],
      "text/plain": [
       "⎡                         -4⋅t                               ⎤\n",
       "⎢        47       -t   5⋅ℯ                       -t      -4⋅t⎥\n",
       "⎢vc(t) = ── - 12⋅ℯ   + ───────, il(t) = 10 - 12⋅ℯ   + 5⋅ℯ    ⎥\n",
       "⎣        4                4                                  ⎦"
      ]
     },
     "execution_count": 23,
     "metadata": {},
     "output_type": "execute_result"
    }
   ],
   "source": [
    "# Solve and display\n",
    "solb = sym.dsolve(eqnsb, unks, ics = {vc(0): 1, il(0): 3})\n",
    "solb"
   ]
  },
  {
   "cell_type": "code",
   "execution_count": 24,
   "id": "9e0c1fb4",
   "metadata": {},
   "outputs": [
    {
     "data": {
      "image/png": "[encoded data removed]",
      "text/latex": [
       "$\\displaystyle \\frac{47}{4} - 12 e^{- t} + \\frac{5 e^{- 4 t}}{4}$"
      ],
      "text/plain": [
       "                 -4⋅t\n",
       "47       -t   5⋅ℯ    \n",
       "── - 12⋅ℯ   + ───────\n",
       "4                4   "
      ]
     },
     "execution_count": 24,
     "metadata": {},
     "output_type": "execute_result"
    }
   ],
   "source": [
    "sym.trigsimp(solb[0].rhs)"
   ]
  },
  {
   "cell_type": "code",
   "execution_count": null,
   "id": "2ad2a6b8",
   "metadata": {},
   "outputs": [],
   "source": []
  }
 ],
 "metadata": {
  "kernelspec": {
   "display_name": "Python 3 (ipykernel)",
   "language": "python",
   "name": "python3"
  },
  "language_info": {
   "codemirror_mode": {
    "name": "ipython",
    "version": 3
   },
   "file_extension": ".py",
   "mimetype": "text/x-python",
   "name": "python",
   "nbconvert_exporter": "python",
   "pygments_lexer": "ipython3",
   "version": "3.8.11"
  }
 },
 "nbformat": 4,
 "nbformat_minor": 5
}
